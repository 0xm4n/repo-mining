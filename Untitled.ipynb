{
 "cells": [
  {
   "cell_type": "code",
   "execution_count": 575,
   "metadata": {},
   "outputs": [],
   "source": [
    "__author__ = \"Zhenyi Tang\"\n",
    "__license__ = 'MIT License.'\n",
    "__email__ = \"zhenyit@outlook.com\"\n",
    "__version__ = \"0.2\"\n"
   ]
  },
  {
   "cell_type": "code",
   "execution_count": null,
   "metadata": {},
   "outputs": [],
   "source": [
    "import re\n",
    "import csv\n",
    "from pydriller import GitRepository"
   ]
  },
  {
   "cell_type": "code",
   "execution_count": 570,
   "metadata": {},
   "outputs": [],
   "source": [
    "# Get methods' infomation from the commit\n",
    "def get_func_info(diffs, mod_type):\n",
    "    func_name, func_sig, func_modifier, func_mod_row, func_params = [], [], [], [], []\n",
    "    \n",
    "    for idx in range(len(diffs[mod_type])):\n",
    "        method = re.search(\"^[\\s]*(public |private ){1}.*\\(*\\)[\\s]*{$\", diffs[mod_type][idx][1])\n",
    "        \n",
    "        if (method):\n",
    "            method_decl = diffs[mod_type][idx][1].lstrip()\n",
    "            sig_left_idx = method_decl.find('(')\n",
    "            sig_right_idx = method_decl.rfind(')')\n",
    "            name_left_idx = method_decl.rfind(' ', 0, sig_left_idx)\n",
    "            \n",
    "            func_name.append( method_decl[ name_left_idx+1:sig_left_idx ] )\n",
    "            func_sig.append( method_decl[ sig_left_idx:sig_right_idx+1] )\n",
    "            func_modifier.append( method_decl[:sig_left_idx] )\n",
    "            func_mod_row.append( diffs[mod_type][idx][0] )\n",
    "            \n",
    "            params = re.sub(\"\\<[^<>]*\\>\",\"\", method_decl[ sig_left_idx:sig_right_idx+1] )\n",
    "            params = params.replace('(', '').replace(')', '').split(\", \")\n",
    "            while(\"\" in params) : \n",
    "                params.remove(\"\") \n",
    "            func_params.append(params)\n",
    "\n",
    "    return func_name, func_sig, func_modifier, func_mod_row, func_params"
   ]
  },
  {
   "cell_type": "code",
   "execution_count": 571,
   "metadata": {},
   "outputs": [],
   "source": [
    "# Due to overload, there may have some methods with the same name are modified in the same commit\n",
    "def find_mod_func_pair(line_num, func_name, pair_func_name, pair_func_mod_row):\n",
    "    diff = 99999\n",
    "    pair_line = 0\n",
    "    for idx,pair_func in enumerate(pair_func_name):\n",
    "        if (pair_func == func_name):\n",
    "            pair_line_num = pair_func_mod_row[idx]\n",
    "            if (abs(pair_line_num-line_num)<diff):\n",
    "                diff = abs(pair_line_num-line_num)\n",
    "                pair_line = idx\n",
    "    return pair_line"
   ]
  },
  {
   "cell_type": "code",
   "execution_count": 572,
   "metadata": {},
   "outputs": [],
   "source": [
    "report_data = []\n",
    "git_repo = GitRepository('../guava')\n",
    "commits = git_repo.get_list_commits()\n",
    "\n",
    "for i,commit in enumerate(commits):\n",
    "    for j,mod in enumerate(commit.modifications):\n",
    "        diffs = git_repo.parse_diff(mod.diff)\n",
    "        # Get Method Info From Modification Detail\n",
    "        add_func_name,add_func_sig,add_func_modifier,add_func_mod_row,add_func_params = get_func_info(diffs, 'added')\n",
    "        del_func_name,del_func_sig,del_func_modifier,del_func_mod_row,del_func_params = get_func_info(diffs, 'deleted')\n",
    "        \n",
    "        # Find method that have removed a parameter\n",
    "        # Consider the Overloading in Java method\n",
    "        \n",
    "        # 1 - added method number <= deleted method number\n",
    "        for add_idx,add_func in enumerate(add_func_name):\n",
    "            if add_func in del_func_name:\n",
    "                added_override_count = add_func_name.count(add_func)\n",
    "                deleted_override_count = del_func_name.count(add_func)\n",
    "                if (add_override_count <= delete_override_count):\n",
    "                    # Find the deleted method that near the added method \n",
    "                    line_num = add_func_mod_row[add_idx]\n",
    "                    del_idx = find_mod_func_pair(line_num, add_func, del_func_name, del_func_mod_row)\n",
    "                    if ( del_func_modifier[del_idx] == add_func_modifier[add_idx]):\n",
    "                        if ( len(del_func_params[del_idx]) == len(add_func_params[add_idx])+1):\n",
    "                            if (all(elem in del_func_params[del_idx]  for elem in add_func_params[add_idx])):\n",
    "                                new_sig = add_func + add_func_sig[add_idx]\n",
    "                                old_sig = add_func + del_func_sig[del_idx]  \n",
    "                                report_data.append([commit.hash,mod.filename,old_sig,new_sig])\n",
    "        \n",
    "        # 2 - added method number > deleted method number\n",
    "        for del_idx,del_func in enumerate(del_func_name):\n",
    "            if del_func in add_func_name:\n",
    "                add_override_count = add_func_name.count(del_func)\n",
    "                del_override_count = del_func_name.count(del_func)\n",
    "                if (add_override_count > del_override_count):\n",
    "                    line_num = del_func_mod_row[del_idx]\n",
    "                    add_idx = find_mod_func_pair(line_num, del_func, add_func_name, add_func_mod_row)\n",
    "                    if ( del_func_modifier[del_idx] == add_func_modifier[add_idx]):\n",
    "                        if ( len(del_func_params[del_idx]) == len(add_func_params[add_idx])+1):\n",
    "                            if (all(elem in del_func_params[del_idx]  for elem in add_func_params[add_idx])):\n",
    "                                new_sig = del_func + add_func_sig[add_idx]\n",
    "                                old_sig = del_func + del_func_sig[del_idx]  \n",
    "                                report_data.append([commit.hash,mod.filename,old_sig,new_sig])"
   ]
  },
  {
   "cell_type": "code",
   "execution_count": 573,
   "metadata": {},
   "outputs": [],
   "source": [
    "# Save the report data to a CSV\n",
    "report_data = list(set(tuple(element) for element in report_data))\n",
    "header = ['Commit SHA', 'Java File', 'Old function signature', 'New function signature”']\n",
    "report_data.insert(0,header)\n",
    "with open('report.csv', 'w', newline='') as resultFile:  \n",
    "    wr = csv.writer(resultFile, dialect='excel')\n",
    "    wr.writerows(report_data)"
   ]
  },
  {
   "cell_type": "code",
   "execution_count": 574,
   "metadata": {},
   "outputs": [],
   "source": []
  },
  {
   "cell_type": "code",
   "execution_count": null,
   "metadata": {},
   "outputs": [],
   "source": [
    "# Consider the Overloading in Java method\n",
    "\n",
    "# The author of the commit may add and delete some functions that have the same name\n",
    "# How to recognize a pair of added and deleted function\n",
    "\n",
    "# There are two posibilities\n",
    "# 1 - In a commit, for those function have the same name,\n",
    "#     the number of added function >= the number of deleted function\n",
    "# 2 - In a commit, for those function have the same name,\n",
    "#     the number of added function < the number of deleted function"
   ]
  }
 ],
 "metadata": {
  "kernelspec": {
   "display_name": "Python 3",
   "language": "python",
   "name": "python3"
  },
  "language_info": {
   "codemirror_mode": {
    "name": "ipython",
    "version": 3
   },
   "file_extension": ".py",
   "mimetype": "text/x-python",
   "name": "python",
   "nbconvert_exporter": "python",
   "pygments_lexer": "ipython3",
   "version": "3.7.3"
  }
 },
 "nbformat": 4,
 "nbformat_minor": 2
}
